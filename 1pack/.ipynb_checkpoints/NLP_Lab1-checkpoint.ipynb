{
 "cells": [
  {
   "cell_type": "code",
   "execution_count": null,
   "id": "11994069",
   "metadata": {},
   "outputs": [],
   "source": [
    "!pip install kaggle"
   ]
  },
  {
   "cell_type": "code",
   "execution_count": null,
   "id": "9fba8f0b",
   "metadata": {},
   "outputs": [],
   "source": [
    "!mkdir /root/.kaggle"
   ]
  },
  {
   "cell_type": "code",
   "execution_count": null,
   "id": "3ccb734b",
   "metadata": {},
   "outputs": [],
   "source": [
    "!touch /root/.kaggle/kaggle.json"
   ]
  },
  {
   "cell_type": "code",
   "execution_count": null,
   "id": "54ab45e0",
   "metadata": {},
   "outputs": [],
   "source": [
    "!echo \"{\"username\":\"bolg4rin\",\"key\":\"9b329c4fc7812fd645aeef0dc24033e2\"}\" >> /root/.kaggle/kaggle.json\n",
    "!chmod 600 /root/.kaggle/kaggle.json"
   ]
  },
  {
   "cell_type": "code",
   "execution_count": null,
   "id": "4abefb62",
   "metadata": {},
   "outputs": [],
   "source": [
    "!kaggle datasets download -d sbhatti/financial-sentiment-analysis"
   ]
  },
  {
   "cell_type": "code",
   "execution_count": 18,
   "id": "c7bfb5b6",
   "metadata": {},
   "outputs": [
    {
     "name": "stdout",
     "output_type": "stream",
     "text": [
      "/usr/lib/python3/dist-packages/scipy/__init__.py:146: UserWarning: A NumPy version >=1.17.3 and <1.25.0 is required for this version of SciPy (detected version 1.26.0\n",
      "  warnings.warn(f\"A NumPy version >={np_minversion} and <{np_maxversion}\"\n",
      "\u001b[38;5;2m✔ Auto-filled config with all values\u001b[0m\n",
      "\u001b[38;5;2m✔ Saved config\u001b[0m\n",
      "config.cfg\n",
      "You can now add your data and train your pipeline:\n",
      "python -m spacy train config.cfg --paths.train ./train.spacy --paths.dev ./dev.spacy\n"
     ]
    }
   ],
   "source": [
    "!python3 -m spacy init fill-config base_config.cfg config.cfg"
   ]
  },
  {
   "cell_type": "code",
   "execution_count": 21,
   "id": "6de4a57c",
   "metadata": {},
   "outputs": [
    {
     "name": "stdout",
     "output_type": "stream",
     "text": [
      "/usr/lib/python3/dist-packages/scipy/__init__.py:146: UserWarning: A NumPy version >=1.17.3 and <1.25.0 is required for this version of SciPy (detected version 1.26.0\n",
      "  warnings.warn(f\"A NumPy version >={np_minversion} and <{np_maxversion}\"\n",
      "\u001b[38;5;4mℹ Saving to output directory: output\u001b[0m\n",
      "\u001b[38;5;4mℹ Using GPU: 0\u001b[0m\n",
      "\u001b[1m\n",
      "=========================== Initializing pipeline ===========================\u001b[0m\n",
      "\u001b[38;5;2m✔ Initialized pipeline\u001b[0m\n",
      "\u001b[1m\n",
      "============================= Training pipeline =============================\u001b[0m\n",
      "\u001b[38;5;4mℹ Pipeline: ['textcat']\u001b[0m\n",
      "\u001b[38;5;4mℹ Initial learn rate: 0.001\u001b[0m\n",
      "E    #       LOSS TEXTCAT  CATS_SCORE  SCORE \n",
      "---  ------  ------------  ----------  ------\n",
      "  0       0          0.25       45.15    0.45\n",
      "  1     200         32.47       57.14    0.57\n",
      "  2     400         22.68       61.34    0.61\n",
      "  3     600         13.22       70.82    0.71\n",
      "  4     800          6.12       68.49    0.68\n",
      "  6    1000          4.53       66.58    0.67\n",
      "  7    1200          5.13       67.29    0.67\n",
      "  8    1400          3.61       67.95    0.68\n",
      "  9    1600          1.26       69.09    0.69\n",
      " 11    1800          3.74       66.25    0.66\n",
      " 12    2000          2.54       68.75    0.69\n",
      " 13    2200          1.67       68.21    0.68\n",
      "\u001b[38;5;2m✔ Saved pipeline to output directory\u001b[0m\n",
      "output/model-last\n"
     ]
    }
   ],
   "source": [
    "!python3 -m spacy train config.cfg --output ./output --paths.train ./train.spacy --paths.dev ./dev.spacy --gpu-id 0"
   ]
  },
  {
   "cell_type": "code",
   "execution_count": 1,
   "id": "75597ea0",
   "metadata": {},
   "outputs": [
    {
     "name": "stderr",
     "output_type": "stream",
     "text": [
      "/usr/lib/python3/dist-packages/scipy/__init__.py:146: UserWarning: A NumPy version >=1.17.3 and <1.25.0 is required for this version of SciPy (detected version 1.26.0\n",
      "  warnings.warn(f\"A NumPy version >={np_minversion} and <{np_maxversion}\"\n"
     ]
    }
   ],
   "source": [
    "#imports\n",
    "import spacy as spc\n",
    "import pandas as pd\n",
    "from spacy.tokens import DocBin"
   ]
  },
  {
   "cell_type": "code",
   "execution_count": 2,
   "id": "1a7c044b",
   "metadata": {},
   "outputs": [],
   "source": [
    "#load the model\n",
    "nlp_model = spc.load(\"ru_core_news_sm\")"
   ]
  },
  {
   "cell_type": "code",
   "execution_count": 3,
   "id": "39074100",
   "metadata": {},
   "outputs": [],
   "source": [
    "\n",
    "def make_docs(nlp_model, data):\n",
    "    \"\"\"\n",
    "    this will take a list of texts and labels\n",
    "    and transform them in spacy documents\n",
    "    data: list(tuple(text, label))\n",
    "    returns: List(spacy.Doc.doc)\n",
    "    \"\"\"\n",
    "    # nlp.pipe([texts]) is way faster than running\n",
    "    # nlp(text) for each text\n",
    "    # as_tuples allows us to pass in a tuple,\n",
    "    # the first one is treated as text\n",
    "    # the second one will get returned as it is.\n",
    "    docs = []\n",
    "    for doc, label in nlp_model.pipe(data, as_tuples=True):\n",
    "        if label == 'negative':\n",
    "            doc.cats[\"positive\"] = 0\n",
    "            doc.cats[\"negative\"] = 1\n",
    "        else:\n",
    "            doc.cats[\"positive\"] = 1\n",
    "            doc.cats[\"negative\"] = 0\n",
    "        docs.append(doc)\n",
    "    return docs"
   ]
  },
  {
   "cell_type": "code",
   "execution_count": 28,
   "id": "2d495888",
   "metadata": {},
   "outputs": [
    {
     "name": "stdout",
     "output_type": "stream",
     "text": [
      "661 165\n"
     ]
    }
   ],
   "source": [
    "#drop an id axis in json\n",
    "df = pd.read_json(\"data/train.json\")\n",
    "df = df.drop(\"id\", axis=1)\n",
    "#take only one tenth of the whole dataset\n",
    "df = df.sample(frac=0.1)\n",
    "class_counts = df['sentiment'].value_counts()\n",
    "#this is the measure against class disbalance\n",
    "#in balanced_df we will recieve df with equality in quantity between classes\n",
    "min_count = class_counts.min()\n",
    "balanced_df = df.groupby('sentiment').apply(lambda x: x.sample(n=min_count)).reset_index(drop=True)\n",
    "#due to groupby balanced_df will be ordered, so we will shuffle dataframe\n",
    "balanced_df = df.sample(frac=1).reset_index(drop=True)\n",
    "\n",
    "\n",
    "train = [tuple((balanced_df.sample(frac=0.8)).iloc[i].values) for i in range((balanced_df.sample(frac=0.8)).shape[0])]\n",
    "valid = [tuple((balanced_df.sample(frac=0.2)).iloc[i].values) for i in range((balanced_df.sample(frac=0.2)).shape[0])]\n",
    "print(len(train), len(valid))"
   ]
  },
  {
   "cell_type": "code",
   "execution_count": 29,
   "id": "2d57e4e5",
   "metadata": {},
   "outputs": [],
   "source": [
    "#make docs\n",
    "train_docs = make_docs(nlp_model, train)\n",
    "valid_docs = make_docs(nlp_model, valid)\n",
    "#save it as binary\n",
    "train_docs_bin = DocBin(docs=train_docs)\n",
    "valid_docs_bin = DocBin(docs=valid_docs)\n",
    "#save to the disk\n",
    "valid_docs_bin.to_disk(\"train.spacy\")\n",
    "train_docs_bin.to_disk(\"dev.spacy\")"
   ]
  },
  {
   "cell_type": "code",
   "execution_count": null,
   "id": "ceb9c953",
   "metadata": {},
   "outputs": [],
   "source": [
    "nlp = spc.load(\"output/model-best\")\n",
    "text = \"\"\n",
    "print(\"type : ‘quit’ to exit\")\n",
    "# predict the sentiment until someone writes quit\n",
    "while text != \"quit\":\n",
    "    text = input(\"Please enter example input: \")\n",
    "    doc = nlp(text)\n",
    "    print(doc.cats)\n",
    "    if doc.cats['positive'] >.5:\n",
    "        print(f\"the sentiment is positive\")\n",
    "    else:\n",
    "        print(f\"the sentiment is negative\")"
   ]
  },
  {
   "cell_type": "code",
   "execution_count": null,
   "id": "539074e2",
   "metadata": {},
   "outputs": [],
   "source": []
  },
  {
   "cell_type": "code",
   "execution_count": null,
   "id": "d0e55ca5",
   "metadata": {},
   "outputs": [],
   "source": []
  }
 ],
 "metadata": {
  "kernelspec": {
   "display_name": "Python 3 (ipykernel)",
   "language": "python",
   "name": "python3"
  },
  "language_info": {
   "codemirror_mode": {
    "name": "ipython",
    "version": 3
   },
   "file_extension": ".py",
   "mimetype": "text/x-python",
   "name": "python",
   "nbconvert_exporter": "python",
   "pygments_lexer": "ipython3",
   "version": "3.10.12"
  }
 },
 "nbformat": 4,
 "nbformat_minor": 5
}
