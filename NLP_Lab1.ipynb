{
 "cells": [
  {
   "cell_type": "code",
   "execution_count": null,
   "id": "11994069",
   "metadata": {},
   "outputs": [],
   "source": [
    "!pip install kaggle"
   ]
  },
  {
   "cell_type": "code",
   "execution_count": null,
   "id": "9fba8f0b",
   "metadata": {},
   "outputs": [],
   "source": [
    "!mkdir /root/.kaggle"
   ]
  },
  {
   "cell_type": "code",
   "execution_count": null,
   "id": "3ccb734b",
   "metadata": {},
   "outputs": [],
   "source": [
    "!touch /root/.kaggle/kaggle.json"
   ]
  },
  {
   "cell_type": "code",
   "execution_count": null,
   "id": "54ab45e0",
   "metadata": {},
   "outputs": [],
   "source": [
    "!echo \"{\"username\":\"bolg4rin\",\"key\":\"9b329c4fc7812fd645aeef0dc24033e2\"}\" >> /root/.kaggle/kaggle.json\n",
    "!chmod 600 /root/.kaggle/kaggle.json"
   ]
  },
  {
   "cell_type": "code",
   "execution_count": null,
   "id": "4abefb62",
   "metadata": {},
   "outputs": [],
   "source": [
    "!kaggle datasets download -d sbhatti/financial-sentiment-analysis"
   ]
  },
  {
   "cell_type": "code",
   "execution_count": null,
   "id": "c7bfb5b6",
   "metadata": {},
   "outputs": [],
   "source": [
    "!python -m spacy init fill-config base_config.cfg config.cfg"
   ]
  },
  {
   "cell_type": "code",
   "execution_count": 30,
   "id": "6de4a57c",
   "metadata": {},
   "outputs": [
    {
     "name": "stdout",
     "output_type": "stream",
     "text": [
      "\u001b[38;5;4mℹ Saving to output directory: output\u001b[0m\n",
      "\u001b[38;5;4mℹ Using GPU: 0\u001b[0m\n",
      "\u001b[1m\n",
      "=========================== Initializing pipeline ===========================\u001b[0m\n",
      "[2023-09-17 03:34:59,593] [INFO] Set up nlp object from config\n",
      "[2023-09-17 03:34:59,603] [INFO] Pipeline: ['textcat']\n",
      "[2023-09-17 03:34:59,606] [INFO] Created vocabulary\n",
      "[2023-09-17 03:34:59,607] [INFO] Finished initializing nlp object\n",
      "[2023-09-17 03:35:03,186] [INFO] Initialized pipeline components: ['textcat']\n",
      "\u001b[38;5;2m✔ Initialized pipeline\u001b[0m\n",
      "\u001b[1m\n",
      "============================= Training pipeline =============================\u001b[0m\n",
      "\u001b[38;5;4mℹ Pipeline: ['textcat']\u001b[0m\n",
      "\u001b[38;5;4mℹ Initial learn rate: 0.0001\u001b[0m\n",
      "E    #       LOSS TEXTCAT  CATS_SCORE  SCORE \n",
      "---  ------  ------------  ----------  ------\n",
      "  0       0          0.25       45.15    0.45\n",
      "  1     200         32.46       45.15    0.45\n",
      "  2     400         26.54       47.76    0.48\n",
      "  3     600         24.32       57.08    0.57\n",
      "  4     800         13.42       59.26    0.59\n",
      "  6    1000          8.72       66.57    0.67\n",
      "  7    1200          3.98       70.07    0.70\n",
      "  8    1400          2.68       69.56    0.70\n",
      "  9    1600          1.51       69.18    0.69\n",
      " 11    1800          1.30       68.67    0.69\n",
      " 12    2000          1.28       68.13    0.68\n",
      " 13    2200          2.07       68.31    0.68\n",
      " 14    2400          1.02       65.50    0.65\n",
      " 16    2600          1.02       67.11    0.67\n",
      " 17    2800          1.06       70.51    0.71\n",
      " 18    3000          1.19       68.10    0.68\n",
      " 19    3200          1.01       68.10    0.68\n",
      " 21    3400          1.33       67.44    0.67\n",
      " 22    3600          0.91       67.62    0.68\n",
      " 23    3800          1.01       67.62    0.68\n",
      " 24    4000          0.79       67.44    0.67\n",
      " 25    4200          0.52       67.44    0.67\n",
      " 27    4400          0.36       67.10    0.67\n",
      "\u001b[38;5;2m✔ Saved pipeline to output directory\u001b[0m\n",
      "output/model-last\n"
     ]
    }
   ],
   "source": [
    "!python -m spacy train config.cfg --output ./output --paths.train ./train.spacy --paths.dev ./dev.spacy --gpu-id 0"
   ]
  },
  {
   "cell_type": "code",
   "execution_count": null,
   "id": "75597ea0",
   "metadata": {},
   "outputs": [],
   "source": [
    "#imports\n",
    "import spacy as spc\n",
    "import pandas as pd\n",
    "from spacy.tokens import DocBin"
   ]
  },
  {
   "cell_type": "code",
   "execution_count": 2,
   "id": "1a7c044b",
   "metadata": {},
   "outputs": [],
   "source": [
    "#load the model\n",
    "nlp_model = spc.load(\"ru_core_news_sm\")"
   ]
  },
  {
   "cell_type": "code",
   "execution_count": 3,
   "id": "39074100",
   "metadata": {},
   "outputs": [],
   "source": [
    "\n",
    "def make_docs(nlp_model, data):\n",
    "    \"\"\"\n",
    "    this will take a list of texts and labels\n",
    "    and transform them in spacy documents\n",
    "    data: list(tuple(text, label))\n",
    "    returns: List(spacy.Doc.doc)\n",
    "    \"\"\"\n",
    "    # nlp.pipe([texts]) is way faster than running\n",
    "    # nlp(text) for each text\n",
    "    # as_tuples allows us to pass in a tuple,\n",
    "    # the first one is treated as text\n",
    "    # the second one will get returned as it is.\n",
    "    docs = []\n",
    "    for doc, label in nlp_model.pipe(data, as_tuples=True):\n",
    "        if label == 'negative':\n",
    "            doc.cats[\"positive\"] = 0\n",
    "            doc.cats[\"negative\"] = 1\n",
    "        else:\n",
    "            doc.cats[\"positive\"] = 1\n",
    "            doc.cats[\"negative\"] = 0\n",
    "        docs.append(doc)\n",
    "    return docs"
   ]
  },
  {
   "cell_type": "code",
   "execution_count": 28,
   "id": "2d495888",
   "metadata": {},
   "outputs": [
    {
     "name": "stdout",
     "output_type": "stream",
     "text": [
      "661 165\n"
     ]
    }
   ],
   "source": [
    "#drop an id axis in json\n",
    "df = pd.read_json(\"data/train.json\")\n",
    "df = df.drop(\"id\", axis=1)\n",
    "#take only one tenth of the whole dataset\n",
    "df = df.sample(frac=0.1)\n",
    "class_counts = df['sentiment'].value_counts()\n",
    "#this is the measure against class disbalance\n",
    "#in balanced_df we will recieve df with equality in quantity between classes\n",
    "min_count = class_counts.min()\n",
    "balanced_df = df.groupby('sentiment').apply(lambda x: x.sample(n=min_count)).reset_index(drop=True)\n",
    "#due to groupby balanced_df will be ordered, so we will shuffle dataframe\n",
    "balanced_df = df.sample(frac=1).reset_index(drop=True)\n",
    "\n",
    "\n",
    "train = [tuple((balanced_df.sample(frac=0.8)).iloc[i].values) for i in range((balanced_df.sample(frac=0.8)).shape[0])]\n",
    "valid = [tuple((balanced_df.sample(frac=0.2)).iloc[i].values) for i in range((balanced_df.sample(frac=0.2)).shape[0])]\n",
    "print(len(train), len(valid))"
   ]
  },
  {
   "cell_type": "code",
   "execution_count": 29,
   "id": "2d57e4e5",
   "metadata": {},
   "outputs": [],
   "source": [
    "#make docs\n",
    "train_docs = make_docs(nlp_model, train)\n",
    "valid_docs = make_docs(nlp_model, valid)\n",
    "#save it as binary\n",
    "train_docs_bin = DocBin(docs=train_docs)\n",
    "valid_docs_bin = DocBin(docs=valid_docs)\n",
    "#save to the disk\n",
    "valid_docs_bin.to_disk(\"train.spacy\")\n",
    "train_docs_bin.to_disk(\"dev.spacy\")"
   ]
  },
  {
   "cell_type": "code",
   "execution_count": null,
   "id": "ceb9c953",
   "metadata": {},
   "outputs": [
    {
     "name": "stdout",
     "output_type": "stream",
     "text": [
      "type : ‘quit’ to exit\n"
     ]
    },
    {
     "name": "stdin",
     "output_type": "stream",
     "text": [
      "Please enter example input:  Русские взяли Харьков\n"
     ]
    },
    {
     "name": "stdout",
     "output_type": "stream",
     "text": [
      "{'positive': 0.49208006262779236, 'negative': 0.5079199075698853}\n",
      "the sentiment is negative\n"
     ]
    },
    {
     "name": "stdin",
     "output_type": "stream",
     "text": [
      "Please enter example input:  Я вышла сегодня дежурить на работу\n"
     ]
    },
    {
     "name": "stdout",
     "output_type": "stream",
     "text": [
      "{'positive': 0.49378061294555664, 'negative': 0.5062193870544434}\n",
      "the sentiment is negative\n"
     ]
    }
   ],
   "source": [
    "nlp = spc.load(\"output/model-best\")\n",
    "text = \"\"\n",
    "print(\"type : ‘quit’ to exit\")\n",
    "# predict the sentiment until someone writes quit\n",
    "while text != \"quit\":\n",
    "    text = input(\"Please enter example input: \")\n",
    "    doc = nlp(text)\n",
    "    print(doc.cats)\n",
    "    if doc.cats['positive'] >.5:\n",
    "        print(f\"the sentiment is positive\")\n",
    "    else:\n",
    "        print(f\"the sentiment is negative\")"
   ]
  },
  {
   "cell_type": "code",
   "execution_count": null,
   "id": "539074e2",
   "metadata": {},
   "outputs": [],
   "source": []
  },
  {
   "cell_type": "code",
   "execution_count": null,
   "id": "d0e55ca5",
   "metadata": {},
   "outputs": [],
   "source": []
  }
 ],
 "metadata": {
  "kernelspec": {
   "display_name": "Python 3 (ipykernel)",
   "language": "python",
   "name": "python3"
  },
  "language_info": {
   "codemirror_mode": {
    "name": "ipython",
    "version": 3
   },
   "file_extension": ".py",
   "mimetype": "text/x-python",
   "name": "python",
   "nbconvert_exporter": "python",
   "pygments_lexer": "ipython3",
   "version": "3.8.10"
  }
 },
 "nbformat": 4,
 "nbformat_minor": 5
}
